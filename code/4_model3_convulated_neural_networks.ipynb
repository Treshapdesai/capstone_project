{
 "cells": [
  {
   "cell_type": "code",
   "execution_count": null,
   "metadata": {},
   "outputs": [],
   "source": []
  },
  {
   "cell_type": "code",
   "execution_count": 2,
   "metadata": {},
   "outputs": [],
   "source": [
    "# Import libraries and modules\n",
    "import numpy as np\n",
    "import matplotlib.pyplot as plt\n",
    "import pandas as pd\n",
    "from sklearn.model_selection import train_test_split, GridSearchCV, cross_val_score\n",
    "from tensorflow.keras.preprocessing.image import ImageDataGenerator\n",
    "np.random.seed(42)\n",
    "\n",
    "from tensorflow.keras.models import Sequential\n",
    "from tensorflow.keras.layers import Dense, Dropout, Flatten, Conv2D, MaxPooling2D\n",
    "from tensorflow.keras import utils\n",
    "from tensorflow.keras.datasets import mnist"
   ]
  },
  {
   "cell_type": "code",
   "execution_count": 3,
   "metadata": {},
   "outputs": [],
   "source": [
    "colorectalx = pd.read_csv('../data/hmnist_64_64_L.csv')\n",
    "colorectalx.drop(columns = 'label', inplace=True)\n",
    "colorectaly = pd.read_csv('../data/hmnist_64_64_L.csv')"
   ]
  },
  {
   "cell_type": "code",
   "execution_count": 4,
   "metadata": {},
   "outputs": [],
   "source": [
    "\n",
    "X = colorectalx\n",
    "y = colorectaly['label']"
   ]
  },
  {
   "cell_type": "code",
   "execution_count": 5,
   "metadata": {},
   "outputs": [
    {
     "data": {
      "text/plain": [
       "7    0.125\n",
       "3    0.125\n",
       "6    0.125\n",
       "2    0.125\n",
       "5    0.125\n",
       "1    0.125\n",
       "8    0.125\n",
       "4    0.125\n",
       "Name: label, dtype: float64"
      ]
     },
     "execution_count": 5,
     "metadata": {},
     "output_type": "execute_result"
    }
   ],
   "source": [
    "y.value_counts(normalize = True)"
   ]
  },
  {
   "cell_type": "code",
   "execution_count": 6,
   "metadata": {},
   "outputs": [],
   "source": [
    "X = X / 255.0 "
   ]
  },
  {
   "cell_type": "code",
   "execution_count": 8,
   "metadata": {},
   "outputs": [],
   "source": [
    "# Reshaping\n",
    "X = X.values.reshape(-1,64,64,1)       # shaping for the Keras\n",
    "y = y.values"
   ]
  },
  {
   "cell_type": "code",
   "execution_count": 9,
   "metadata": {},
   "outputs": [],
   "source": [
    "y = utils.to_categorical(y)"
   ]
  },
  {
   "cell_type": "code",
   "execution_count": null,
   "metadata": {},
   "outputs": [],
   "source": []
  },
  {
   "cell_type": "code",
   "execution_count": 45,
   "metadata": {},
   "outputs": [],
   "source": [
    "# split the data into the training and testing sets\n",
    "\n",
    "X_train, X_val, y_train, y_val = train_test_split(X, y, test_size = 0.2, random_state=42)\n"
   ]
  },
  {
   "cell_type": "code",
   "execution_count": 46,
   "metadata": {},
   "outputs": [
    {
     "name": "stdout",
     "output_type": "stream",
     "text": [
      "x_train.shape:  (4000, 64, 64, 1)\n",
      "x_val.shape:  (1000, 64, 64, 1)\n",
      "y_train.shape:  (4000, 9)\n",
      "y_val.shape:  (1000, 9)\n"
     ]
    }
   ],
   "source": [
    "print(\"x_train.shape: \",X_train.shape)\n",
    "print(\"x_val.shape: \",X_val.shape)\n",
    "print(\"y_train.shape: \",y_train.shape)\n",
    "print(\"y_val.shape: \",y_val.shape)"
   ]
  },
  {
   "cell_type": "code",
   "execution_count": 47,
   "metadata": {},
   "outputs": [
    {
     "data": {
      "text/plain": [
       "(4000, 64, 64, 1)"
      ]
     },
     "execution_count": 47,
     "metadata": {},
     "output_type": "execute_result"
    }
   ],
   "source": [
    "# Check shape of an image.\n",
    "X_train.shape"
   ]
  },
  {
   "cell_type": "code",
   "execution_count": null,
   "metadata": {},
   "outputs": [],
   "source": []
  },
  {
   "cell_type": "code",
   "execution_count": null,
   "metadata": {},
   "outputs": [],
   "source": []
  },
  {
   "cell_type": "code",
   "execution_count": null,
   "metadata": {},
   "outputs": [],
   "source": []
  },
  {
   "cell_type": "code",
   "execution_count": 48,
   "metadata": {},
   "outputs": [
    {
     "data": {
      "text/plain": [
       "(64, 64, 1)"
      ]
     },
     "execution_count": 48,
     "metadata": {},
     "output_type": "execute_result"
    }
   ],
   "source": [
    "# Check shape of an image.\n",
    "X_train[0].shape"
   ]
  },
  {
   "cell_type": "code",
   "execution_count": 49,
   "metadata": {},
   "outputs": [],
   "source": [
    "# Instantiate a CNN.\n",
    "cnn_model_2 = Sequential()"
   ]
  },
  {
   "cell_type": "code",
   "execution_count": 51,
   "metadata": {},
   "outputs": [],
   "source": [
    "# Add a convolutional layer.\n",
    "cnn_model_2.add(Conv2D(filters=128,             # number of filters\n",
    "                       kernel_size=(5,5),      # height/width of filter\n",
    "                       activation='relu',\n",
    "                       padding = 'same',# activation function \n",
    "                       input_shape=(64,64,1))) # shape of input (image)"
   ]
  },
  {
   "cell_type": "code",
   "execution_count": 52,
   "metadata": {},
   "outputs": [],
   "source": [
    "# Add a pooling layer.\n",
    "cnn_model_2.add(MaxPooling2D(pool_size=(2,2))) # dimensions of region of pooling"
   ]
  },
  {
   "cell_type": "code",
   "execution_count": 54,
   "metadata": {},
   "outputs": [],
   "source": [
    "cnn_model_2.add(Dropout(0.25))"
   ]
  },
  {
   "cell_type": "code",
   "execution_count": 55,
   "metadata": {},
   "outputs": [],
   "source": [
    "# Add another convolutional layer.\n",
    "cnn_model_2.add(Conv2D(64,\n",
    "                       kernel_size=(3,3),\n",
    "                       activation='relu'))"
   ]
  },
  {
   "cell_type": "code",
   "execution_count": 56,
   "metadata": {},
   "outputs": [],
   "source": [
    "# Add another pooling layer.\n",
    "cnn_model_2.add(MaxPooling2D(pool_size=(2,2)))"
   ]
  },
  {
   "cell_type": "code",
   "execution_count": 57,
   "metadata": {},
   "outputs": [],
   "source": [
    "cnn_model_2.add(Dropout(0.25))"
   ]
  },
  {
   "cell_type": "code",
   "execution_count": 58,
   "metadata": {},
   "outputs": [],
   "source": [
    "# Add another convolutional layer.\n",
    "cnn_model_2.add(Conv2D(64,\n",
    "                       kernel_size=(3,3),\n",
    "                       activation='relu'))\n",
    "\n",
    "# Add another pooling layer.\n",
    "cnn_model_2.add(MaxPooling2D(pool_size=(2,2)))\n",
    "\n",
    "cnn_model_2.add(Dropout(0.25))"
   ]
  },
  {
   "cell_type": "code",
   "execution_count": 59,
   "metadata": {},
   "outputs": [],
   "source": [
    "cnn_model_2.add(Flatten())"
   ]
  },
  {
   "cell_type": "code",
   "execution_count": 60,
   "metadata": {},
   "outputs": [],
   "source": [
    "cnn_model_2.add(Dense(256, activation='relu'))\n",
    "cnn_model_2.add(Dense(64, activation='relu'))\n",
    "cnn_model_2.add(Dense(32, activation='relu'))"
   ]
  },
  {
   "cell_type": "code",
   "execution_count": 61,
   "metadata": {},
   "outputs": [],
   "source": [
    "cnn_model_2.add(Dense(9, activation='softmax'))"
   ]
  },
  {
   "cell_type": "code",
   "execution_count": 63,
   "metadata": {},
   "outputs": [
    {
     "name": "stdout",
     "output_type": "stream",
     "text": [
      "Model: \"sequential\"\n",
      "_________________________________________________________________\n",
      "Layer (type)                 Output Shape              Param #   \n",
      "=================================================================\n",
      "conv2d (Conv2D)              (None, 60, 60, 128)       3328      \n",
      "_________________________________________________________________\n",
      "conv2d_1 (Conv2D)            (None, 60, 60, 128)       409728    \n",
      "_________________________________________________________________\n",
      "max_pooling2d (MaxPooling2D) (None, 30, 30, 128)       0         \n",
      "_________________________________________________________________\n",
      "dropout (Dropout)            (None, 30, 30, 128)       0         \n",
      "_________________________________________________________________\n",
      "conv2d_2 (Conv2D)            (None, 28, 28, 64)        73792     \n",
      "_________________________________________________________________\n",
      "max_pooling2d_1 (MaxPooling2 (None, 14, 14, 64)        0         \n",
      "_________________________________________________________________\n",
      "dropout_1 (Dropout)          (None, 14, 14, 64)        0         \n",
      "_________________________________________________________________\n",
      "conv2d_3 (Conv2D)            (None, 12, 12, 64)        36928     \n",
      "_________________________________________________________________\n",
      "max_pooling2d_2 (MaxPooling2 (None, 6, 6, 64)          0         \n",
      "_________________________________________________________________\n",
      "dropout_2 (Dropout)          (None, 6, 6, 64)          0         \n",
      "_________________________________________________________________\n",
      "flatten (Flatten)            (None, 2304)              0         \n",
      "_________________________________________________________________\n",
      "dense (Dense)                (None, 256)               590080    \n",
      "_________________________________________________________________\n",
      "dense_1 (Dense)              (None, 64)                16448     \n",
      "_________________________________________________________________\n",
      "dense_2 (Dense)              (None, 32)                2080      \n",
      "_________________________________________________________________\n",
      "dense_3 (Dense)              (None, 9)                 297       \n",
      "=================================================================\n",
      "Total params: 1,132,681\n",
      "Trainable params: 1,132,681\n",
      "Non-trainable params: 0\n",
      "_________________________________________________________________\n"
     ]
    }
   ],
   "source": [
    "cnn_model_2.summary()"
   ]
  },
  {
   "cell_type": "code",
   "execution_count": 66,
   "metadata": {},
   "outputs": [],
   "source": [
    "# Compile model\n",
    "cnn_model_2.compile(loss='categorical_crossentropy',\n",
    "                    optimizer='adam',\n",
    "                    metrics=['accuracy'])\n",
    "\n"
   ]
  },
  {
   "cell_type": "code",
   "execution_count": 70,
   "metadata": {},
   "outputs": [],
   "source": []
  },
  {
   "cell_type": "code",
   "execution_count": 71,
   "metadata": {},
   "outputs": [],
   "source": [
    "datagen = ImageDataGenerator(\n",
    "        rotation_range=0.5, \n",
    "        zoom_range = 0.5, \n",
    "        width_shift_range=0.5,  \n",
    "        height_shift_range=0.5, \n",
    "        horizontal_flip=True, \n",
    "        vertical_flip=True)\n",
    "\n",
    "datagen.fit(x_train)"
   ]
  },
  {
   "cell_type": "code",
   "execution_count": 74,
   "metadata": {},
   "outputs": [
    {
     "name": "stdout",
     "output_type": "stream",
     "text": [
      "Epoch 1/20\n",
      "20/20 [==============================] - 1087s 55s/step - loss: 1.2724 - accuracy: 0.4857 - val_loss: 1.1236 - val_accuracy: 0.5550\n",
      "Epoch 2/20\n",
      "20/20 [==============================] - 1114s 56s/step - loss: 0.9851 - accuracy: 0.5990 - val_loss: 0.9945 - val_accuracy: 0.6190\n",
      "Epoch 3/20\n",
      "20/20 [==============================] - 1129s 57s/step - loss: 0.9909 - accuracy: 0.5987 - val_loss: 1.1946 - val_accuracy: 0.4730\n",
      "Epoch 4/20\n",
      "20/20 [==============================] - 564s 28s/step - loss: 0.9811 - accuracy: 0.5993 - val_loss: 0.9805 - val_accuracy: 0.6330\n",
      "Epoch 5/20\n",
      "20/20 [==============================] - 562s 28s/step - loss: 0.9262 - accuracy: 0.6235 - val_loss: 0.9537 - val_accuracy: 0.6390\n",
      "Epoch 6/20\n",
      "20/20 [==============================] - 558s 28s/step - loss: 0.8996 - accuracy: 0.6410 - val_loss: 1.1650 - val_accuracy: 0.5760\n",
      "Epoch 7/20\n",
      "20/20 [==============================] - 576s 29s/step - loss: 0.8934 - accuracy: 0.6492 - val_loss: 0.9790 - val_accuracy: 0.6330\n",
      "Epoch 8/20\n",
      "20/20 [==============================] - 574s 29s/step - loss: 0.9193 - accuracy: 0.6325 - val_loss: 1.0397 - val_accuracy: 0.6410\n",
      "Epoch 9/20\n",
      "20/20 [==============================] - 565s 28s/step - loss: 0.8926 - accuracy: 0.6405 - val_loss: 1.1121 - val_accuracy: 0.5640\n",
      "Epoch 10/20\n",
      "20/20 [==============================] - 719s 36s/step - loss: 1.0284 - accuracy: 0.5683 - val_loss: 1.0934 - val_accuracy: 0.5660\n",
      "Epoch 11/20\n",
      "20/20 [==============================] - 972s 49s/step - loss: 0.9182 - accuracy: 0.6273 - val_loss: 0.9584 - val_accuracy: 0.6300\n",
      "Epoch 12/20\n",
      "20/20 [==============================] - 918s 46s/step - loss: 0.8668 - accuracy: 0.6600 - val_loss: 1.4822 - val_accuracy: 0.5080\n",
      "Epoch 13/20\n",
      "20/20 [==============================] - 824s 41s/step - loss: 1.2189 - accuracy: 0.5255 - val_loss: 1.2454 - val_accuracy: 0.5390\n",
      "Epoch 14/20\n",
      "20/20 [==============================] - 484s 24s/step - loss: 0.9215 - accuracy: 0.6252 - val_loss: 1.0006 - val_accuracy: 0.6330\n",
      "Epoch 15/20\n",
      "20/20 [==============================] - 478s 24s/step - loss: 0.9291 - accuracy: 0.6135 - val_loss: 0.8226 - val_accuracy: 0.6880\n",
      "Epoch 16/20\n",
      "20/20 [==============================] - 513s 26s/step - loss: 0.8838 - accuracy: 0.6440 - val_loss: 0.7949 - val_accuracy: 0.7010\n",
      "Epoch 17/20\n",
      "20/20 [==============================] - 471s 24s/step - loss: 0.9778 - accuracy: 0.6018 - val_loss: 1.1207 - val_accuracy: 0.5130\n",
      "Epoch 18/20\n",
      "20/20 [==============================] - 474s 24s/step - loss: 0.9229 - accuracy: 0.6248 - val_loss: 0.9758 - val_accuracy: 0.6250\n",
      "Epoch 19/20\n",
      "20/20 [==============================] - 509s 24s/step - loss: 0.8355 - accuracy: 0.6793 - val_loss: 0.7414 - val_accuracy: 0.7360\n",
      "Epoch 20/20\n",
      "20/20 [==============================] - 472s 24s/step - loss: 0.9243 - accuracy: 0.6357 - val_loss: 0.8144 - val_accuracy: 0.6290\n"
     ]
    },
    {
     "data": {
      "text/plain": [
       "<tensorflow.python.keras.callbacks.History at 0x3092430580>"
      ]
     },
     "execution_count": 74,
     "metadata": {},
     "output_type": "execute_result"
    }
   ],
   "source": [
    "cnn_model_2.fit_generator(datagen.flow(x_train,y_train, batch_size=200),\n",
    "                              epochs = 20, validation_data = (x_val,y_val))"
   ]
  },
  {
   "cell_type": "code",
   "execution_count": null,
   "metadata": {},
   "outputs": [],
   "source": []
  },
  {
   "cell_type": "code",
   "execution_count": null,
   "metadata": {},
   "outputs": [],
   "source": []
  },
  {
   "cell_type": "code",
   "execution_count": null,
   "metadata": {},
   "outputs": [],
   "source": []
  },
  {
   "cell_type": "code",
   "execution_count": null,
   "metadata": {},
   "outputs": [],
   "source": []
  },
  {
   "cell_type": "code",
   "execution_count": 65,
   "metadata": {},
   "outputs": [
    {
     "name": "stdout",
     "output_type": "stream",
     "text": [
      "Epoch 1/20\n",
      "20/20 [==============================] - 791s 39s/step - loss: 2.1039 - accuracy: 0.1486 - val_loss: 1.7915 - val_accuracy: 0.2320\n",
      "Epoch 2/20\n",
      "20/20 [==============================] - 628s 31s/step - loss: 1.7124 - accuracy: 0.2656 - val_loss: 1.3528 - val_accuracy: 0.5040\n",
      "Epoch 3/20\n",
      "20/20 [==============================] - 502s 25s/step - loss: 1.3154 - accuracy: 0.4330 - val_loss: 1.3294 - val_accuracy: 0.3930\n",
      "Epoch 4/20\n",
      "20/20 [==============================] - 498s 25s/step - loss: 1.1949 - accuracy: 0.4844 - val_loss: 1.2083 - val_accuracy: 0.4760\n",
      "Epoch 5/20\n",
      "20/20 [==============================] - 507s 25s/step - loss: 1.0619 - accuracy: 0.5479 - val_loss: 1.1516 - val_accuracy: 0.5000\n",
      "Epoch 6/20\n",
      "20/20 [==============================] - 481s 24s/step - loss: 1.0555 - accuracy: 0.5513 - val_loss: 1.1254 - val_accuracy: 0.4540\n",
      "Epoch 7/20\n",
      "20/20 [==============================] - 484s 24s/step - loss: 1.1470 - accuracy: 0.5331 - val_loss: 1.0520 - val_accuracy: 0.5790\n",
      "Epoch 8/20\n",
      "20/20 [==============================] - 493s 25s/step - loss: 1.0185 - accuracy: 0.5791 - val_loss: 1.0578 - val_accuracy: 0.5400\n",
      "Epoch 9/20\n",
      "20/20 [==============================] - 509s 25s/step - loss: 0.9537 - accuracy: 0.5946 - val_loss: 0.9887 - val_accuracy: 0.6280\n",
      "Epoch 10/20\n",
      "20/20 [==============================] - 511s 26s/step - loss: 0.9409 - accuracy: 0.6096 - val_loss: 0.9455 - val_accuracy: 0.6290\n",
      "Epoch 11/20\n",
      "20/20 [==============================] - 487s 24s/step - loss: 0.9172 - accuracy: 0.6138 - val_loss: 0.9493 - val_accuracy: 0.6260\n",
      "Epoch 12/20\n",
      "20/20 [==============================] - 467s 23s/step - loss: 0.8718 - accuracy: 0.6471 - val_loss: 0.9662 - val_accuracy: 0.6090\n",
      "Epoch 13/20\n",
      "20/20 [==============================] - 468s 23s/step - loss: 0.9210 - accuracy: 0.6173 - val_loss: 1.0272 - val_accuracy: 0.5410\n",
      "Epoch 14/20\n",
      "20/20 [==============================] - 468s 23s/step - loss: 0.9093 - accuracy: 0.5998 - val_loss: 0.9981 - val_accuracy: 0.6390\n",
      "Epoch 15/20\n",
      "20/20 [==============================] - 466s 23s/step - loss: 0.8521 - accuracy: 0.6594 - val_loss: 1.0553 - val_accuracy: 0.5390\n",
      "Epoch 16/20\n",
      "20/20 [==============================] - 468s 23s/step - loss: 0.9558 - accuracy: 0.5852 - val_loss: 1.1425 - val_accuracy: 0.6080\n",
      "Epoch 17/20\n",
      "20/20 [==============================] - 466s 23s/step - loss: 0.9085 - accuracy: 0.6272 - val_loss: 0.8781 - val_accuracy: 0.6600\n",
      "Epoch 18/20\n",
      "20/20 [==============================] - 483s 24s/step - loss: 0.9488 - accuracy: 0.6243 - val_loss: 1.2508 - val_accuracy: 0.4670\n",
      "Epoch 19/20\n",
      "20/20 [==============================] - 515s 26s/step - loss: 1.0473 - accuracy: 0.5580 - val_loss: 1.0034 - val_accuracy: 0.6130\n",
      "Epoch 20/20\n",
      "20/20 [==============================] - 942s 47s/step - loss: 0.8598 - accuracy: 0.6588 - val_loss: 0.8531 - val_accuracy: 0.6750\n"
     ]
    }
   ],
   "source": [
    "# Fit model on training data\n",
    "history = cnn_model_2.fit(X_train,\n",
    "                          y_train,\n",
    "                          batch_size=200,\n",
    "                          validation_data=(X_val, y_val),\n",
    "                          epochs=20,\n",
    "                          verbose=1)"
   ]
  },
  {
   "cell_type": "code",
   "execution_count": null,
   "metadata": {},
   "outputs": [],
   "source": []
  },
  {
   "cell_type": "code",
   "execution_count": null,
   "metadata": {},
   "outputs": [],
   "source": []
  }
 ],
 "metadata": {
  "kernelspec": {
   "display_name": "Python 3",
   "language": "python",
   "name": "python3"
  },
  "language_info": {
   "codemirror_mode": {
    "name": "ipython",
    "version": 3
   },
   "file_extension": ".py",
   "mimetype": "text/x-python",
   "name": "python",
   "nbconvert_exporter": "python",
   "pygments_lexer": "ipython3",
   "version": "3.8.5"
  }
 },
 "nbformat": 4,
 "nbformat_minor": 4
}
