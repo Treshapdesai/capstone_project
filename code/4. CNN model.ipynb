{
 "cells": [
  {
   "cell_type": "markdown",
   "metadata": {},
   "source": [
    "<img src=\"../images/topcover.jpg\" width=\"1000\" height=\"50\">"
   ]
  },
  {
   "cell_type": "markdown",
   "metadata": {},
   "source": [
    "## Colorectal cancer dataset"
   ]
  },
  {
   "cell_type": "code",
   "execution_count": 2,
   "metadata": {},
   "outputs": [],
   "source": [
    "# Import libraries and modules\n",
    "import numpy as np\n",
    "import matplotlib.pyplot as plt\n",
    "import pandas as pd\n",
    "from sklearn.model_selection import train_test_split, GridSearchCV, cross_val_score\n",
    "from tensorflow.keras.preprocessing.image import ImageDataGenerator\n",
    "np.random.seed(42)\n",
    "\n",
    "from tensorflow.keras.models import Sequential\n",
    "from tensorflow.keras.layers import Dense, Dropout, Flatten, Conv2D, MaxPooling2D\n",
    "from tensorflow.keras import utils\n",
    "from tensorflow.keras.datasets import mnist"
   ]
  },
  {
   "cell_type": "code",
   "execution_count": 3,
   "metadata": {},
   "outputs": [],
   "source": [
    "colorectalx = pd.read_csv('../data/hmnist_64_64_L.csv')\n",
    "colorectalx.drop(columns = 'label', inplace=True)\n",
    "colorectaly = pd.read_csv('../data/hmnist_64_64_L.csv')"
   ]
  },
  {
   "cell_type": "code",
   "execution_count": 4,
   "metadata": {},
   "outputs": [],
   "source": [
    "\n",
    "X = colorectalx\n",
    "y = colorectaly['label']"
   ]
  },
  {
   "cell_type": "code",
   "execution_count": 5,
   "metadata": {},
   "outputs": [
    {
     "data": {
      "text/plain": [
       "7    0.125\n",
       "3    0.125\n",
       "6    0.125\n",
       "2    0.125\n",
       "5    0.125\n",
       "1    0.125\n",
       "8    0.125\n",
       "4    0.125\n",
       "Name: label, dtype: float64"
      ]
     },
     "execution_count": 5,
     "metadata": {},
     "output_type": "execute_result"
    }
   ],
   "source": [
    "y.value_counts(normalize = True)"
   ]
  },
  {
   "cell_type": "code",
   "execution_count": 6,
   "metadata": {},
   "outputs": [],
   "source": [
    "X = X / 255.0 "
   ]
  },
  {
   "cell_type": "code",
   "execution_count": 7,
   "metadata": {},
   "outputs": [],
   "source": [
    "# Reshaping\n",
    "X = X.values.reshape(-1,64,64,1)       # shaping for the Keras\n",
    "y = y.values"
   ]
  },
  {
   "cell_type": "code",
   "execution_count": 8,
   "metadata": {},
   "outputs": [],
   "source": [
    "y = utils.to_categorical(y)"
   ]
  },
  {
   "cell_type": "code",
   "execution_count": 9,
   "metadata": {},
   "outputs": [],
   "source": [
    "# split the data into the training and testing sets\n",
    "\n",
    "X_train, X_val, y_train, y_val = train_test_split(X, y, test_size = 0.2, random_state=42)\n"
   ]
  },
  {
   "cell_type": "code",
   "execution_count": 10,
   "metadata": {},
   "outputs": [
    {
     "name": "stdout",
     "output_type": "stream",
     "text": [
      "x_train.shape:  (4000, 64, 64, 1)\n",
      "x_val.shape:  (1000, 64, 64, 1)\n",
      "y_train.shape:  (4000, 9)\n",
      "y_val.shape:  (1000, 9)\n"
     ]
    }
   ],
   "source": [
    "print(\"x_train.shape: \",X_train.shape)\n",
    "print(\"x_val.shape: \",X_val.shape)\n",
    "print(\"y_train.shape: \",y_train.shape)\n",
    "print(\"y_val.shape: \",y_val.shape)"
   ]
  },
  {
   "cell_type": "markdown",
   "metadata": {},
   "source": [
    "## Convulated Neural Network Model"
   ]
  },
  {
   "cell_type": "code",
   "execution_count": 11,
   "metadata": {},
   "outputs": [
    {
     "data": {
      "text/plain": [
       "(4000, 64, 64, 1)"
      ]
     },
     "execution_count": 11,
     "metadata": {},
     "output_type": "execute_result"
    }
   ],
   "source": [
    "# Check shape of an image.\n",
    "X_train.shape"
   ]
  },
  {
   "cell_type": "code",
   "execution_count": 12,
   "metadata": {},
   "outputs": [
    {
     "data": {
      "text/plain": [
       "(64, 64, 1)"
      ]
     },
     "execution_count": 12,
     "metadata": {},
     "output_type": "execute_result"
    }
   ],
   "source": [
    "# Check shape of an image.\n",
    "X_train[0].shape"
   ]
  },
  {
   "cell_type": "code",
   "execution_count": 13,
   "metadata": {},
   "outputs": [],
   "source": [
    "# Instantiate a CNN.\n",
    "cnn_model_2 = Sequential()"
   ]
  },
  {
   "cell_type": "code",
   "execution_count": 14,
   "metadata": {},
   "outputs": [],
   "source": [
    "# Add a convolutional layer.\n",
    "cnn_model_2.add(Conv2D(filters=128,             # number of filters\n",
    "                       kernel_size=(5,5),      # height/width of filter\n",
    "                       activation='relu',\n",
    "                       padding = 'same',# activation function \n",
    "                       input_shape=(64,64,1))) # shape of input (image)"
   ]
  },
  {
   "cell_type": "code",
   "execution_count": 15,
   "metadata": {},
   "outputs": [],
   "source": [
    "# Add a pooling layer.\n",
    "cnn_model_2.add(MaxPooling2D(pool_size=(2,2))) # dimensions of region of pooling"
   ]
  },
  {
   "cell_type": "code",
   "execution_count": 16,
   "metadata": {},
   "outputs": [],
   "source": [
    "cnn_model_2.add(Dropout(0.25))"
   ]
  },
  {
   "cell_type": "code",
   "execution_count": 17,
   "metadata": {},
   "outputs": [],
   "source": [
    "# Add another convolutional layer.\n",
    "cnn_model_2.add(Conv2D(64,\n",
    "                       kernel_size=(3,3),\n",
    "                       activation='relu'))"
   ]
  },
  {
   "cell_type": "code",
   "execution_count": 18,
   "metadata": {},
   "outputs": [],
   "source": [
    "# Add another pooling layer.\n",
    "cnn_model_2.add(MaxPooling2D(pool_size=(2,2)))"
   ]
  },
  {
   "cell_type": "code",
   "execution_count": 19,
   "metadata": {},
   "outputs": [],
   "source": [
    "cnn_model_2.add(Dropout(0.25))"
   ]
  },
  {
   "cell_type": "code",
   "execution_count": 20,
   "metadata": {},
   "outputs": [],
   "source": [
    "# Add another convolutional layer.\n",
    "cnn_model_2.add(Conv2D(64,\n",
    "                       kernel_size=(3,3),\n",
    "                       activation='relu'))\n",
    "\n",
    "# Add another pooling layer.\n",
    "cnn_model_2.add(MaxPooling2D(pool_size=(2,2)))\n",
    "\n",
    "cnn_model_2.add(Dropout(0.25))"
   ]
  },
  {
   "cell_type": "code",
   "execution_count": 21,
   "metadata": {},
   "outputs": [],
   "source": [
    "cnn_model_2.add(Flatten())"
   ]
  },
  {
   "cell_type": "code",
   "execution_count": 22,
   "metadata": {},
   "outputs": [],
   "source": [
    "cnn_model_2.add(Dense(256, activation='relu'))\n",
    "cnn_model_2.add(Dense(64, activation='relu'))\n",
    "cnn_model_2.add(Dense(32, activation='relu'))"
   ]
  },
  {
   "cell_type": "code",
   "execution_count": 23,
   "metadata": {},
   "outputs": [],
   "source": [
    "cnn_model_2.add(Dense(9, activation='softmax'))"
   ]
  },
  {
   "cell_type": "code",
   "execution_count": 24,
   "metadata": {},
   "outputs": [
    {
     "name": "stdout",
     "output_type": "stream",
     "text": [
      "Model: \"sequential\"\n",
      "_________________________________________________________________\n",
      "Layer (type)                 Output Shape              Param #   \n",
      "=================================================================\n",
      "conv2d (Conv2D)              (None, 64, 64, 128)       3328      \n",
      "_________________________________________________________________\n",
      "max_pooling2d (MaxPooling2D) (None, 32, 32, 128)       0         \n",
      "_________________________________________________________________\n",
      "dropout (Dropout)            (None, 32, 32, 128)       0         \n",
      "_________________________________________________________________\n",
      "conv2d_1 (Conv2D)            (None, 30, 30, 64)        73792     \n",
      "_________________________________________________________________\n",
      "max_pooling2d_1 (MaxPooling2 (None, 15, 15, 64)        0         \n",
      "_________________________________________________________________\n",
      "dropout_1 (Dropout)          (None, 15, 15, 64)        0         \n",
      "_________________________________________________________________\n",
      "conv2d_2 (Conv2D)            (None, 13, 13, 64)        36928     \n",
      "_________________________________________________________________\n",
      "max_pooling2d_2 (MaxPooling2 (None, 6, 6, 64)          0         \n",
      "_________________________________________________________________\n",
      "dropout_2 (Dropout)          (None, 6, 6, 64)          0         \n",
      "_________________________________________________________________\n",
      "flatten (Flatten)            (None, 2304)              0         \n",
      "_________________________________________________________________\n",
      "dense (Dense)                (None, 256)               590080    \n",
      "_________________________________________________________________\n",
      "dense_1 (Dense)              (None, 64)                16448     \n",
      "_________________________________________________________________\n",
      "dense_2 (Dense)              (None, 32)                2080      \n",
      "_________________________________________________________________\n",
      "dense_3 (Dense)              (None, 9)                 297       \n",
      "=================================================================\n",
      "Total params: 722,953\n",
      "Trainable params: 722,953\n",
      "Non-trainable params: 0\n",
      "_________________________________________________________________\n"
     ]
    }
   ],
   "source": [
    "cnn_model_2.summary()"
   ]
  },
  {
   "cell_type": "code",
   "execution_count": 25,
   "metadata": {},
   "outputs": [],
   "source": [
    "# Compile model\n",
    "cnn_model_2.compile(loss='categorical_crossentropy',\n",
    "                    optimizer='adam',\n",
    "                    metrics=['accuracy'])\n",
    "\n"
   ]
  },
  {
   "cell_type": "code",
   "execution_count": 27,
   "metadata": {},
   "outputs": [],
   "source": [
    "datagen = ImageDataGenerator(\n",
    "        rotation_range=0.5, \n",
    "        zoom_range = 0.5, \n",
    "        width_shift_range=0.5,  \n",
    "        height_shift_range=0.5, \n",
    "        horizontal_flip=True, \n",
    "        vertical_flip=True)\n",
    "\n",
    "datagen.fit(X_train)"
   ]
  },
  {
   "cell_type": "code",
   "execution_count": 30,
   "metadata": {},
   "outputs": [
    {
     "name": "stderr",
     "output_type": "stream",
     "text": [
      "C:\\Users\\Tresha\\anaconda3\\lib\\site-packages\\tensorflow\\python\\keras\\engine\\training.py:1844: UserWarning: `Model.fit_generator` is deprecated and will be removed in a future version. Please use `Model.fit`, which supports generators.\n",
      "  warnings.warn('`Model.fit_generator` is deprecated and '\n"
     ]
    },
    {
     "name": "stdout",
     "output_type": "stream",
     "text": [
      "Epoch 1/20\n",
      "20/20 [==============================] - 92s 3s/step - loss: 2.0957 - accuracy: 0.1227 - val_loss: 1.8986 - val_accuracy: 0.2400\n",
      "Epoch 2/20\n",
      "20/20 [==============================] - 64s 3s/step - loss: 1.7633 - accuracy: 0.2420 - val_loss: 1.5340 - val_accuracy: 0.2940\n",
      "Epoch 3/20\n",
      "20/20 [==============================] - 63s 3s/step - loss: 1.3930 - accuracy: 0.3583 - val_loss: 1.2571 - val_accuracy: 0.4000\n",
      "Epoch 4/20\n",
      "20/20 [==============================] - 65s 3s/step - loss: 1.2736 - accuracy: 0.4190 - val_loss: 1.5424 - val_accuracy: 0.2860\n",
      "Epoch 5/20\n",
      "20/20 [==============================] - 71s 4s/step - loss: 1.2082 - accuracy: 0.4663 - val_loss: 1.2130 - val_accuracy: 0.4980\n",
      "Epoch 6/20\n",
      "20/20 [==============================] - 65s 3s/step - loss: 1.1203 - accuracy: 0.5218 - val_loss: 1.1200 - val_accuracy: 0.5600\n",
      "Epoch 7/20\n",
      "20/20 [==============================] - 68s 3s/step - loss: 1.1088 - accuracy: 0.5341 - val_loss: 1.3551 - val_accuracy: 0.3840\n",
      "Epoch 8/20\n",
      "20/20 [==============================] - 63s 3s/step - loss: 1.1685 - accuracy: 0.4809 - val_loss: 1.1279 - val_accuracy: 0.4820\n",
      "Epoch 9/20\n",
      "20/20 [==============================] - 63s 3s/step - loss: 1.0724 - accuracy: 0.5570 - val_loss: 1.2421 - val_accuracy: 0.4720\n",
      "Epoch 10/20\n",
      "20/20 [==============================] - 65s 3s/step - loss: 1.0630 - accuracy: 0.5562 - val_loss: 1.1685 - val_accuracy: 0.5170\n",
      "Epoch 11/20\n",
      "20/20 [==============================] - 62s 3s/step - loss: 1.0831 - accuracy: 0.5448 - val_loss: 1.1718 - val_accuracy: 0.5290\n",
      "Epoch 12/20\n",
      "20/20 [==============================] - 63s 3s/step - loss: 1.0341 - accuracy: 0.5737 - val_loss: 1.0772 - val_accuracy: 0.5310\n",
      "Epoch 13/20\n",
      "20/20 [==============================] - 64s 3s/step - loss: 0.9780 - accuracy: 0.6049 - val_loss: 0.9603 - val_accuracy: 0.6170\n",
      "Epoch 14/20\n",
      "20/20 [==============================] - 65s 3s/step - loss: 0.9478 - accuracy: 0.6205 - val_loss: 1.1080 - val_accuracy: 0.5790\n",
      "Epoch 15/20\n",
      "20/20 [==============================] - 71s 4s/step - loss: 1.0653 - accuracy: 0.5552 - val_loss: 1.1396 - val_accuracy: 0.5220\n",
      "Epoch 16/20\n",
      "20/20 [==============================] - 64s 3s/step - loss: 0.9947 - accuracy: 0.5817 - val_loss: 1.1363 - val_accuracy: 0.5220\n",
      "Epoch 17/20\n",
      "20/20 [==============================] - 63s 3s/step - loss: 0.9608 - accuracy: 0.6062 - val_loss: 0.9260 - val_accuracy: 0.6660\n",
      "Epoch 18/20\n",
      "20/20 [==============================] - 65s 3s/step - loss: 0.9463 - accuracy: 0.6266 - val_loss: 0.9363 - val_accuracy: 0.6490\n",
      "Epoch 19/20\n",
      "20/20 [==============================] - 65s 3s/step - loss: 0.9681 - accuracy: 0.6159 - val_loss: 1.0942 - val_accuracy: 0.5300\n",
      "Epoch 20/20\n",
      "20/20 [==============================] - 64s 3s/step - loss: 1.0044 - accuracy: 0.5683 - val_loss: 1.1042 - val_accuracy: 0.6030\n"
     ]
    },
    {
     "data": {
      "text/plain": [
       "<tensorflow.python.keras.callbacks.History at 0xa1284ae760>"
      ]
     },
     "execution_count": 30,
     "metadata": {},
     "output_type": "execute_result"
    }
   ],
   "source": [
    "cnn_model_2.fit_generator(datagen.flow(X_train,y_train, batch_size=200),\n",
    "                              epochs = 20, validation_data = (X_val,y_val))"
   ]
  },
  {
   "cell_type": "markdown",
   "metadata": {},
   "source": [
    "##### Observing the accuracy score in the table below, Random Forests is still the model that performs better to classify pixel image data."
   ]
  },
  {
   "cell_type": "markdown",
   "metadata": {},
   "source": [
    "**Summary table for Colorectal Cancer Classification models for 8 Tissue type classes:**\n",
    "\n",
    "| Model| Test Accuracy|Baseline score|\n",
    "|:---------:|:---:|:--------:|\n",
    "|  Random Forests |    0.684 |  0.125  |\n",
    "|KNN| 0.432| 0.125|\n",
    "|CNN|  0.603 |0.125|"
   ]
  }
 ],
 "metadata": {
  "kernelspec": {
   "display_name": "Python 3",
   "language": "python",
   "name": "python3"
  },
  "language_info": {
   "codemirror_mode": {
    "name": "ipython",
    "version": 3
   },
   "file_extension": ".py",
   "mimetype": "text/x-python",
   "name": "python",
   "nbconvert_exporter": "python",
   "pygments_lexer": "ipython3",
   "version": "3.8.5"
  }
 },
 "nbformat": 4,
 "nbformat_minor": 4
}
